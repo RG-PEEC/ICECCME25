{
 "cells": [
  {
   "metadata": {
    "ExecuteTime": {
     "end_time": "2025-05-09T16:55:15.409215Z",
     "start_time": "2025-05-09T16:55:15.404200Z"
    }
   },
   "cell_type": "code",
   "source": [
    "import pandas as pd\n",
    "from pymongo import MongoClient\n",
    "from bson import json_util\n",
    "\n",
    "# 1. Verbinde dich mit MongoDB – Connection-String anpassen\n",
    "client = MongoClient(\"mongodb://localhost:27017/\")"
   ],
   "id": "a89080f7b0a2ce78",
   "outputs": [],
   "execution_count": 5
  },
  {
   "metadata": {
    "ExecuteTime": {
     "end_time": "2025-05-09T16:55:15.433940Z",
     "start_time": "2025-05-09T16:55:15.420397Z"
    }
   },
   "cell_type": "code",
   "source": [
    "db          = client[\"ExperimentResults20250509_182513\"]\n",
    "collection  = db[\"GPTAssistant_TransversalSkills_VolunteerDatasetSoft_qwen2.5-14b-instruct_20250509-182514_1746807914\"]\n",
    "\n",
    "# 2. Dokumente holen (Cursor vermeidet Speicher-Peak)\n",
    "cursor = collection.find({}, no_cursor_timeout=True).batch_size(1_000)\n",
    "\n",
    "# 3. In DataFrame kippen\n",
    "df = pd.DataFrame(list(cursor))\n",
    "\n",
    "# 4. BSON-Typen (z. B. ObjectId, Datumsfelder) ggf. in Strings konvertieren\n",
    "df[\"_id\"] = df[\"_id\"].astype(str)\n",
    "# Alternative: df = pd.json_normalize(json_util.loads(json_util.dumps(list(cursor))))\n",
    "\n",
    "cursor.close()\n",
    "client.close()"
   ],
   "id": "43bd7d77554f6d9f",
   "outputs": [
    {
     "name": "stderr",
     "output_type": "stream",
     "text": [
      "/opt/homebrew/Caskroom/miniconda/base/envs/iceccme_experiments/lib/python3.12/site-packages/pymongo/synchronous/collection.py:1945: UserWarning: use an explicit session with no_cursor_timeout=True otherwise the cursor may still timeout after 30 minutes, for more info see https://mongodb.com/docs/v4.4/reference/method/cursor.noCursorTimeout/#session-idle-timeout-overrides-nocursortimeout\n",
      "  return Cursor(self, *args, **kwargs)\n"
     ]
    }
   ],
   "execution_count": 6
  },
  {
   "metadata": {
    "ExecuteTime": {
     "end_time": "2025-05-09T17:10:39.857986Z",
     "start_time": "2025-05-09T17:10:39.838721Z"
    }
   },
   "cell_type": "code",
   "source": "",
   "id": "c79fb41933d20981",
   "outputs": [],
   "execution_count": 15
  },
  {
   "metadata": {
    "ExecuteTime": {
     "end_time": "2025-05-09T17:08:16.233415Z",
     "start_time": "2025-05-09T17:08:16.230623Z"
    }
   },
   "cell_type": "code",
   "source": "df.columns",
   "id": "cb9cada40f62c0f5",
   "outputs": [
    {
     "data": {
      "text/plain": [
       "Index(['_id', 'experiment_name', 'timestamp', 'input', 'expected_output',\n",
       "       'run_time_s', 'result_raw', 'skills', 'reasons', 'sentence_pieces',\n",
       "       'jaccard_similarity', 'recall', 'length_penalty', 'graph_similarity',\n",
       "       'combined_score', 'error', 'found_skills', 'not_found_skills',\n",
       "       'accuracy', 'result_set', 'type', 'averages', 'counts'],\n",
       "      dtype='object')"
      ]
     },
     "execution_count": 9,
     "metadata": {},
     "output_type": "execute_result"
    }
   ],
   "execution_count": 9
  },
  {
   "metadata": {
    "ExecuteTime": {
     "end_time": "2025-05-09T17:09:56.378487Z",
     "start_time": "2025-05-09T17:09:56.375252Z"
    }
   },
   "cell_type": "code",
   "source": [
    "df = df[[\"input\",\"expected_output\",\"result_raw\",\"skills\",\"reasons\",\"sentence_pieces\", \"accuracy\", 'found_skills', 'not_found_skills']]\n",
    "df.rename(columns={\"found_skills\": \"in_esco\", \"not_found_skills\": \"not_in_esco\"}, inplace=True)"
   ],
   "id": "754838924e44557d",
   "outputs": [],
   "execution_count": 11
  },
  {
   "metadata": {
    "ExecuteTime": {
     "end_time": "2025-05-09T17:10:36.666447Z",
     "start_time": "2025-05-09T17:10:36.663922Z"
    }
   },
   "cell_type": "code",
   "source": [
    "# make col accuracy string\n",
    "df[\"accuracy\"] = df[\"accuracy\"].astype(str)"
   ],
   "id": "d76c162c81a7aea3",
   "outputs": [],
   "execution_count": 14
  },
  {
   "metadata": {
    "ExecuteTime": {
     "end_time": "2025-05-09T17:21:16.833582Z",
     "start_time": "2025-05-09T17:21:16.827749Z"
    }
   },
   "cell_type": "code",
   "source": [
    "df_y = pd.read_csv(\n",
    "    \"/Users/p42939_christophgassner/Code/iceccme_experiments/datasets/volunteerSoft/volunteer_softskills.csv\", sep=\";\")\n",
    "df[\"task_id\"] = df_y[\"task_id\"].copy()\n",
    "df[\"short\"] = df_y[\"short\"].copy()"
   ],
   "id": "4604fac4cdecfc70",
   "outputs": [],
   "execution_count": 18
  },
  {
   "metadata": {
    "ExecuteTime": {
     "end_time": "2025-05-09T17:21:18.997091Z",
     "start_time": "2025-05-09T17:21:18.976106Z"
    }
   },
   "cell_type": "code",
   "source": "df.to_csv(\"gpt4.1_transversal_skills_with_short.csv\", sep=\";\", index=False)",
   "id": "a8792e3a9ec98899",
   "outputs": [],
   "execution_count": 19
  },
  {
   "metadata": {
    "ExecuteTime": {
     "end_time": "2025-05-09T17:25:17.645608Z",
     "start_time": "2025-05-09T17:25:17.642809Z"
    }
   },
   "cell_type": "code",
   "source": "df.columns",
   "id": "9607a84461eb8b44",
   "outputs": [
    {
     "data": {
      "text/plain": [
       "Index(['input', 'expected_output', 'result_raw', 'skills', 'reasons',\n",
       "       'sentence_pieces', 'accuracy', 'in_esco', 'not_in_esco', 'task_id',\n",
       "       'short'],\n",
       "      dtype='object')"
      ]
     },
     "execution_count": 21,
     "metadata": {},
     "output_type": "execute_result"
    }
   ],
   "execution_count": 21
  },
  {
   "metadata": {},
   "cell_type": "code",
   "outputs": [],
   "execution_count": null,
   "source": "",
   "id": "13d888727be7cae4"
  }
 ],
 "metadata": {
  "kernelspec": {
   "display_name": "Python 3",
   "language": "python",
   "name": "python3"
  },
  "language_info": {
   "codemirror_mode": {
    "name": "ipython",
    "version": 2
   },
   "file_extension": ".py",
   "mimetype": "text/x-python",
   "name": "python",
   "nbconvert_exporter": "python",
   "pygments_lexer": "ipython2",
   "version": "2.7.6"
  }
 },
 "nbformat": 4,
 "nbformat_minor": 5
}
